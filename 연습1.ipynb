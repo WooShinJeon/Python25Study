{
  "nbformat": 4,
  "nbformat_minor": 0,
  "metadata": {
    "colab": {
      "provenance": [],
      "authorship_tag": "ABX9TyNNF7oLoHqh31xCeaIXRXwc",
      "include_colab_link": true
    },
    "kernelspec": {
      "name": "python3",
      "display_name": "Python 3"
    },
    "language_info": {
      "name": "python"
    }
  },
  "cells": [
    {
      "cell_type": "markdown",
      "metadata": {
        "id": "view-in-github",
        "colab_type": "text"
      },
      "source": [
        "<a href=\"https://colab.research.google.com/github/WooShinJeon/Python25Study/blob/master/%EC%97%B0%EC%8A%B51.ipynb\" target=\"_parent\"><img src=\"https://colab.research.google.com/assets/colab-badge.svg\" alt=\"Open In Colab\"/></a>"
      ]
    },
    {
      "cell_type": "code",
      "execution_count": 2,
      "metadata": {
        "colab": {
          "base_uri": "https://localhost:8080/"
        },
        "id": "lGWoJyYxjE5i",
        "outputId": "02d79591-7c60-4652-b7e3-1381c67a83e1"
      },
      "outputs": [
        {
          "output_type": "stream",
          "name": "stdout",
          "text": [
            "123\n"
          ]
        }
      ],
      "source": [
        "# 숫자형\n",
        "# Number 타입 : 정수, 실수, 2진수,\n",
        "\n",
        "a = 123\n",
        "print(a)"
      ]
    },
    {
      "cell_type": "code",
      "source": [
        "# multistring.py\n",
        "\n",
        "print(\"=\" * 50)\n",
        "print(\"My Program\")\n",
        "print(\"=\" * 50)"
      ],
      "metadata": {
        "colab": {
          "base_uri": "https://localhost:8080/"
        },
        "id": "h-AS-MP80nOZ",
        "outputId": "01dfe770-a975-41c5-9855-37a3879b0f2f"
      },
      "execution_count": 1,
      "outputs": [
        {
          "output_type": "stream",
          "name": "stdout",
          "text": [
            "==================================================\n",
            "My Program\n",
            "==================================================\n"
          ]
        }
      ]
    },
    {
      "cell_type": "code",
      "source": [
        "# 슬라이싱\n",
        "\n",
        "a = \"Life is too short, You need Python\"\n",
        "b = a[0] + a[1] + a[2] + a[3]\n",
        "print(a[3])\n",
        "print(b)\n",
        "print(a[19:])\n",
        "\n",
        "c = \"20251030Sunny\"\n",
        "year = c[:4]\n",
        "month = c[4:6]\n",
        "day = c[6:8]\n",
        "weather = c[8:]\n",
        "print(year)\n",
        "print(month)\n",
        "print(day)\n",
        "print(weather)"
      ],
      "metadata": {
        "colab": {
          "base_uri": "https://localhost:8080/"
        },
        "id": "FnyDlZiU1QrX",
        "outputId": "3beae20d-9842-4acc-d853-44dbd414b042"
      },
      "execution_count": 12,
      "outputs": [
        {
          "output_type": "stream",
          "name": "stdout",
          "text": [
            "e\n",
            "Life\n",
            "You need Python\n",
            "2025\n",
            "10\n",
            "30\n",
            "Sunny\n"
          ]
        }
      ]
    },
    {
      "cell_type": "code",
      "source": [
        "\"I eat %d apples.\" % 3"
      ],
      "metadata": {
        "colab": {
          "base_uri": "https://localhost:8080/",
          "height": 34
        },
        "id": "Ni6mfIDa30VA",
        "outputId": "17dd4547-0ccf-4dde-fe0b-7ce6b4dbcc38"
      },
      "execution_count": 14,
      "outputs": [
        {
          "output_type": "execute_result",
          "data": {
            "text/plain": [
              "'I eat 3 apples.'"
            ],
            "application/vnd.google.colaboratory.intrinsic+json": {
              "type": "string"
            }
          },
          "metadata": {},
          "execution_count": 14
        }
      ]
    },
    {
      "cell_type": "code",
      "source": [
        "\"I eat %s apples.\" % \"two\""
      ],
      "metadata": {
        "colab": {
          "base_uri": "https://localhost:8080/",
          "height": 34
        },
        "id": "6Dw0R8JP37n_",
        "outputId": "1ce11da4-d776-46d7-989a-709fd0c3f207"
      },
      "execution_count": 16,
      "outputs": [
        {
          "output_type": "execute_result",
          "data": {
            "text/plain": [
              "'I eat two apples.'"
            ],
            "application/vnd.google.colaboratory.intrinsic+json": {
              "type": "string"
            }
          },
          "metadata": {},
          "execution_count": 16
        }
      ]
    },
    {
      "cell_type": "code",
      "source": [
        "number = 10\n",
        "day = \"three\"\n",
        "\"I ate %d apples, so I was sick for %s days.\" % (number, day)"
      ],
      "metadata": {
        "colab": {
          "base_uri": "https://localhost:8080/",
          "height": 34
        },
        "id": "j23OfosG4INX",
        "outputId": "f415f9c8-a600-40af-9ce7-522c36e3efca"
      },
      "execution_count": 17,
      "outputs": [
        {
          "output_type": "execute_result",
          "data": {
            "text/plain": [
              "'I ate 10 apples, so I was sick for three days.'"
            ],
            "application/vnd.google.colaboratory.intrinsic+json": {
              "type": "string"
            }
          },
          "metadata": {},
          "execution_count": 17
        }
      ]
    },
    {
      "cell_type": "code",
      "source": [
        "number = 10\n",
        "day = \"three\"\n",
        "\"I ate {0} apples, so I was sick for {1} days.\" .format(number, day)"
      ],
      "metadata": {
        "colab": {
          "base_uri": "https://localhost:8080/",
          "height": 34
        },
        "id": "VUFg5bBq5RV_",
        "outputId": "8963ef09-40e9-4045-99ea-57ed9c5cff28"
      },
      "execution_count": 19,
      "outputs": [
        {
          "output_type": "execute_result",
          "data": {
            "text/plain": [
              "'I ate 10 apples, so I was sick for three days.'"
            ],
            "application/vnd.google.colaboratory.intrinsic+json": {
              "type": "string"
            }
          },
          "metadata": {},
          "execution_count": 19
        }
      ]
    },
    {
      "cell_type": "code",
      "source": [
        "name = \"홍길동\"\n",
        "age = \"30\"\n",
        "f'나의 이름은 {name}입니다. 나이는 {age}입니다.'"
      ],
      "metadata": {
        "colab": {
          "base_uri": "https://localhost:8080/",
          "height": 34
        },
        "id": "VgR51oxc6Hzw",
        "outputId": "4a0b8350-8e1b-44f8-c99f-23c9aeed64da"
      },
      "execution_count": 20,
      "outputs": [
        {
          "output_type": "execute_result",
          "data": {
            "text/plain": [
              "'나의 이름은 홍길동입니다. 나이는 30입니다.'"
            ],
            "application/vnd.google.colaboratory.intrinsic+json": {
              "type": "string"
            }
          },
          "metadata": {},
          "execution_count": 20
        }
      ]
    }
  ]
}